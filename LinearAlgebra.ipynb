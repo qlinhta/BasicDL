{
 "cells": [
  {
   "cell_type": "markdown",
   "source": [
    "### Linear Algebra Application for Machine Learning"
   ],
   "metadata": {
    "collapsed": false
   }
  },
  {
   "cell_type": "code",
   "execution_count": 40,
   "outputs": [],
   "source": [
    "# Import libraries\n",
    "import numpy as np"
   ],
   "metadata": {
    "collapsed": false
   }
  },
  {
   "cell_type": "code",
   "execution_count": 41,
   "outputs": [
    {
     "name": "stdout",
     "output_type": "stream",
     "text": [
      "[[1 2]\n",
      " [3 4]]\n"
     ]
    }
   ],
   "source": [
    "# Create a 2D array\n",
    "A = np.array([[1, 2], [3, 4]])\n",
    "print(A)"
   ],
   "metadata": {
    "collapsed": false
   }
  },
  {
   "cell_type": "code",
   "execution_count": 42,
   "outputs": [
    {
     "name": "stdout",
     "output_type": "stream",
     "text": [
      "[[[1 2]\n",
      "  [3 4]]\n",
      "\n",
      " [[5 6]\n",
      "  [7 8]]]\n"
     ]
    }
   ],
   "source": [
    "# Create a 3D array\n",
    "B = np.array([[[1, 2], [3, 4]], [[5, 6], [7, 8]]])\n",
    "print(B)"
   ],
   "metadata": {
    "collapsed": false
   }
  },
  {
   "cell_type": "code",
   "execution_count": 43,
   "outputs": [
    {
     "name": "stdout",
     "output_type": "stream",
     "text": [
      "[[[0. 0. 0. 0.]\n",
      "  [0. 0. 0. 0.]\n",
      "  [0. 0. 0. 0.]]\n",
      "\n",
      " [[0. 0. 0. 0.]\n",
      "  [0. 0. 0. 0.]\n",
      "  [0. 0. 0. 0.]]]\n"
     ]
    }
   ],
   "source": [
    "# Create a 3D array of zeros\n",
    "C = np.zeros((2, 3, 4))\n",
    "print(C)"
   ],
   "metadata": {
    "collapsed": false
   }
  },
  {
   "cell_type": "code",
   "execution_count": 44,
   "outputs": [
    {
     "name": "stdout",
     "output_type": "stream",
     "text": [
      "[[[1. 1. 1. 1.]\n",
      "  [1. 1. 1. 1.]\n",
      "  [1. 1. 1. 1.]]\n",
      "\n",
      " [[1. 1. 1. 1.]\n",
      "  [1. 1. 1. 1.]\n",
      "  [1. 1. 1. 1.]]]\n"
     ]
    }
   ],
   "source": [
    "# Create a 3D array of ones\n",
    "D = np.ones((2, 3, 4))\n",
    "print(D)"
   ],
   "metadata": {
    "collapsed": false
   }
  },
  {
   "cell_type": "code",
   "execution_count": 45,
   "outputs": [
    {
     "name": "stdout",
     "output_type": "stream",
     "text": [
      "[[[0.78482165 0.23682398 0.96505873 0.15176861]\n",
      "  [0.82130624 0.274829   0.51945669 0.46858508]\n",
      "  [0.10061017 0.83901226 0.80005983 0.64625047]]\n",
      "\n",
      " [[0.75613277 0.99232157 0.78068993 0.43506969]\n",
      "  [0.54657391 0.8222663  0.0640511  0.10124143]\n",
      "  [0.31504307 0.22173163 0.79438862 0.5742397 ]]]\n"
     ]
    }
   ],
   "source": [
    "# Create a 3D array of random numbers\n",
    "E = np.random.random((2, 3, 4))\n",
    "print(E)"
   ],
   "metadata": {
    "collapsed": false
   }
  },
  {
   "cell_type": "code",
   "execution_count": 46,
   "outputs": [
    {
     "name": "stdout",
     "output_type": "stream",
     "text": [
      "[[[4 2 4 9 1]\n",
      "  [6 3 5 8 4]\n",
      "  [9 2 3 0 5]\n",
      "  [3 0 4 9 9]]\n",
      "\n",
      " [[1 3 2 1 0]\n",
      "  [7 0 8 8 7]\n",
      "  [7 1 0 3 5]\n",
      "  [5 3 8 6 1]]\n",
      "\n",
      " [[0 3 1 5 9]\n",
      "  [8 2 5 1 4]\n",
      "  [2 9 5 7 5]\n",
      "  [8 2 4 0 3]]]\n"
     ]
    }
   ],
   "source": [
    "# Create a 3D array of random integers\n",
    "F = np.random.randint(10, size=(3, 4, 5))\n",
    "print(F)"
   ],
   "metadata": {
    "collapsed": false
   }
  },
  {
   "cell_type": "code",
   "execution_count": 47,
   "outputs": [
    {
     "name": "stdout",
     "output_type": "stream",
     "text": [
      "[[[2 7 9 6 7]\n",
      "  [0 6 1 3 8]\n",
      "  [6 5 0 2 0]\n",
      "  [4 6 2 8 8]]\n",
      "\n",
      " [[5 8 2 0 8]\n",
      "  [8 1 9 8 1]\n",
      "  [8 1 0 5 2]\n",
      "  [6 4 7 0 9]]\n",
      "\n",
      " [[8 9 4 9 9]\n",
      "  [2 5 8 7 0]\n",
      "  [6 5 2 1 7]\n",
      "  [8 7 5 4 0]]]\n"
     ]
    }
   ],
   "source": [
    "# Create a 3D array of random integers\n",
    "G = np.random.randint(10, size=(3, 4, 5))\n",
    "print(G)"
   ],
   "metadata": {
    "collapsed": false
   }
  },
  {
   "cell_type": "code",
   "execution_count": 48,
   "outputs": [
    {
     "name": "stdout",
     "output_type": "stream",
     "text": [
      "Test passed!\n"
     ]
    }
   ],
   "source": [
    "# Create a function calculate the dot product of two vectors\n",
    "def dot_product(a, b):\n",
    "    return sum([a[i] * b[i] for i in range(len(a))])\n",
    "\n",
    "# Write the test for the dot product function\n",
    "def test_dot_product():\n",
    "    a = [1, 2, 3]\n",
    "    b = [4, 5, 6]\n",
    "    assert dot_product(a, b) == 32\n",
    "    print(\"Test passed!\")\n",
    "\n",
    "test_dot_product()"
   ],
   "metadata": {
    "collapsed": false
   }
  },
  {
   "cell_type": "code",
   "execution_count": 49,
   "outputs": [
    {
     "name": "stdout",
     "output_type": "stream",
     "text": [
      "Test passed!\n"
     ]
    }
   ],
   "source": [
    "# Create a function calculate the sum of two vectors\n",
    "def vector_sum(a, b):\n",
    "    return [a[i] + b[i] for i in range(len(a))]\n",
    "\n",
    "# Write the test for the vector sum function\n",
    "def test_vector_sum():\n",
    "    a = [1, 2, 3]\n",
    "    b = [4, 5, 6]\n",
    "    assert vector_sum(a, b) == [5, 7, 9]\n",
    "    print(\"Test passed!\")\n",
    "\n",
    "test_vector_sum()"
   ],
   "metadata": {
    "collapsed": false
   }
  },
  {
   "cell_type": "code",
   "execution_count": 50,
   "outputs": [
    {
     "name": "stdout",
     "output_type": "stream",
     "text": [
      "Test passed!\n"
     ]
    }
   ],
   "source": [
    "# Create a function calculate the sum of multiple vectors\n",
    "def vector_sum(*args):\n",
    "    return [sum(arg[i] for arg in args) for i in range(len(args[0]))]\n",
    "\n",
    "# Write the test for the vector sum function\n",
    "def test_vector_sum():\n",
    "    a = [1, 2, 3]\n",
    "    b = [4, 5, 6]\n",
    "    c = [7, 8, 9]\n",
    "    assert vector_sum(a, b, c) == [12, 15, 18]\n",
    "    print(\"Test passed!\")\n",
    "\n",
    "test_vector_sum()"
   ],
   "metadata": {
    "collapsed": false
   }
  },
  {
   "cell_type": "code",
   "execution_count": 51,
   "outputs": [
    {
     "name": "stdout",
     "output_type": "stream",
     "text": [
      "Test passed!\n"
     ]
    }
   ],
   "source": [
    "# Create a function calculate the subtraction of two vectors\n",
    "def vector_subtract(a, b):\n",
    "    return [a[i] - b[i] for i in range(len(a))]\n",
    "\n",
    "# Write the test for the vector subtraction function\n",
    "def test_vector_subtract():\n",
    "    a = [1, 2, 3]\n",
    "    b = [4, 5, 6]\n",
    "    assert vector_subtract(a, b) == [-3, -3, -3]\n",
    "    print(\"Test passed!\")\n",
    "\n",
    "test_vector_subtract()"
   ],
   "metadata": {
    "collapsed": false
   }
  },
  {
   "cell_type": "code",
   "execution_count": 52,
   "outputs": [
    {
     "name": "stdout",
     "output_type": "stream",
     "text": [
      "Test passed!\n",
      "Test passed!\n"
     ]
    }
   ],
   "source": [
    "# Create a function calculate the subtraction of two matrices\n",
    "def matrix_subtract(a, b):\n",
    "    return [vector_subtract(a[i], b[i]) for i in range(len(a))]\n",
    "\n",
    "# Write the test for the matrix subtraction function\n",
    "def test_matrix_subtract():\n",
    "    a = [[1, 2, 3], [4, 5, 6]]\n",
    "    b = [[7, 8, 9], [10, 11, 12]]\n",
    "    assert matrix_subtract(a, b) == [[-6, -6, -6], [-6, -6, -6]]\n",
    "    print(\"Test passed!\")\n",
    "\n",
    "# Create a function calculate the sum of two matrices\n",
    "def matrix_sum(a, b):\n",
    "    return [vector_sum(a[i], b[i]) for i in range(len(a))]\n",
    "\n",
    "# Write the test for the matrix sum function\n",
    "def test_matrix_sum():\n",
    "    a = [[1, 2, 3], [4, 5, 6]]\n",
    "    b = [[7, 8, 9], [10, 11, 12]]\n",
    "    assert matrix_sum(a, b) == [[8, 10, 12], [14, 16, 18]]\n",
    "    print(\"Test passed!\")\n",
    "\n",
    "test_matrix_subtract()\n",
    "test_matrix_sum()"
   ],
   "metadata": {
    "collapsed": false
   }
  },
  {
   "cell_type": "code",
   "execution_count": 53,
   "outputs": [
    {
     "name": "stdout",
     "output_type": "stream",
     "text": [
      "Test passed!\n"
     ]
    }
   ],
   "source": [
    "# Create a function calculate determinant of a matrix\n",
    "def matrix_determinant(a):\n",
    "    if len(a) == 1:\n",
    "        return a[0][0]\n",
    "    else:\n",
    "        return sum([(-1) ** i * a[0][i] * matrix_determinant([row[:i] + row[i+1:] for row in a[1:]]) for i in range(len(a))])\n",
    "\n",
    "# Write the test for the matrix determinant function\n",
    "def test_matrix_determinant():\n",
    "    a = [[1, 2], [3, 4]]\n",
    "    assert matrix_determinant(a) == -2\n",
    "    print(\"Test passed!\")\n",
    "\n",
    "test_matrix_determinant()"
   ],
   "metadata": {
    "collapsed": false
   }
  },
  {
   "cell_type": "code",
   "execution_count": 54,
   "outputs": [
    {
     "name": "stdout",
     "output_type": "stream",
     "text": [
      "Test passed!\n"
     ]
    }
   ],
   "source": [
    "# Create a function calculate the transpose of a matrix\n",
    "def matrix_transpose(a):\n",
    "    return [[row[i] for row in a] for i in range(len(a[0]))]\n",
    "\n",
    "# Write the test for the matrix transpose function\n",
    "def test_matrix_transpose():\n",
    "    a = [[1, 2], [3, 4]]\n",
    "    assert matrix_transpose(a) == [[1, 3], [2, 4]]\n",
    "    print(\"Test passed!\")\n",
    "\n",
    "test_matrix_transpose()"
   ],
   "metadata": {
    "collapsed": false
   }
  },
  {
   "cell_type": "code",
   "execution_count": 55,
   "outputs": [
    {
     "name": "stdout",
     "output_type": "stream",
     "text": [
      "[-0.37228132  5.37228132]\n"
     ]
    }
   ],
   "source": [
    "# Create a function calculate eigenvalues of a matrix\n",
    "def matrix_eigenvalues(a):\n",
    "    return np.linalg.eigvals(a)\n",
    "\n",
    "print(matrix_eigenvalues([[1, 2], [3, 4]]))"
   ],
   "metadata": {
    "collapsed": false
   }
  },
  {
   "cell_type": "code",
   "execution_count": 56,
   "outputs": [
    {
     "name": "stdout",
     "output_type": "stream",
     "text": [
      "[[-0.82456484 -0.41597356]\n",
      " [ 0.56576746 -0.90937671]]\n"
     ]
    }
   ],
   "source": [
    "# Create a function calculate eigenvectors of a matrix\n",
    "def matrix_eigenvectors(a):\n",
    "    return np.linalg.eig(a)[1]\n",
    "\n",
    "print(matrix_eigenvectors([[1, 2], [3, 4]]))"
   ],
   "metadata": {
    "collapsed": false
   }
  },
  {
   "cell_type": "code",
   "execution_count": 57,
   "outputs": [
    {
     "name": "stdout",
     "output_type": "stream",
     "text": [
      "[[-2.   1. ]\n",
      " [ 1.5 -0.5]]\n"
     ]
    }
   ],
   "source": [
    "# Create a function calculate the inverse of a matrix\n",
    "def matrix_inverse(a):\n",
    "    return np.linalg.inv(a)\n",
    "\n",
    "print(matrix_inverse([[1, 2], [3, 4]]))"
   ],
   "metadata": {
    "collapsed": false
   }
  },
  {
   "cell_type": "code",
   "execution_count": 58,
   "outputs": [
    {
     "name": "stdout",
     "output_type": "stream",
     "text": [
      "Test passed!\n",
      "Test passed!\n"
     ]
    }
   ],
   "source": [
    "# Create a function find the rank of a matrix\n",
    "def matrix_rank(a):\n",
    "    return np.linalg.matrix_rank(a)\n",
    "\n",
    "# Write the test for the matrix rank function\n",
    "def test_matrix_rank():\n",
    "    a = [[1, 2], [3, 4]]\n",
    "    assert matrix_rank(a) == 2\n",
    "    print(\"Test passed!\")\n",
    "\n",
    "# Create a function calculate the trace of a matrix\n",
    "def matrix_trace(a):\n",
    "    return sum([a[i][i] for i in range(len(a))])\n",
    "\n",
    "# Write the test for the matrix trace function\n",
    "def test_matrix_trace():\n",
    "    a = [[1, 2], [3, 4]]\n",
    "    assert matrix_trace(a) == 5\n",
    "    print(\"Test passed!\")\n",
    "\n",
    "test_matrix_rank()\n",
    "test_matrix_trace()"
   ],
   "metadata": {
    "collapsed": false
   }
  },
  {
   "cell_type": "code",
   "execution_count": 69,
   "outputs": [],
   "source": [
    "# Create a function compute Singular Value Decomposition of a matrix\n",
    "def matrix_svd(a):\n",
    "    return np.linalg.svd(a)\n",
    "# Create a function compute the Moore-Penrose pseudoinverse of a matrix\n",
    "def matrix_pseudoinverse(a):\n",
    "    return np.linalg.pinv(a)"
   ],
   "metadata": {
    "collapsed": false
   }
  },
  {
   "cell_type": "code",
   "execution_count": 70,
   "outputs": [
    {
     "data": {
      "text/plain": "(array([[-0.40455358, -0.9145143 ],\n        [-0.9145143 ,  0.40455358]]),\n array([5.4649857 , 0.36596619]),\n array([[-0.57604844, -0.81741556],\n        [ 0.81741556, -0.57604844]]))"
     },
     "execution_count": 70,
     "metadata": {},
     "output_type": "execute_result"
    }
   ],
   "source": [
    "matrix_svd([[1, 2], [3, 4]])"
   ],
   "metadata": {
    "collapsed": false
   }
  },
  {
   "cell_type": "code",
   "execution_count": 71,
   "outputs": [
    {
     "data": {
      "text/plain": "array([[-2. ,  1. ],\n       [ 1.5, -0.5]])"
     },
     "execution_count": 71,
     "metadata": {},
     "output_type": "execute_result"
    }
   ],
   "source": [
    "matrix_pseudoinverse([[1, 2], [3, 4]])"
   ],
   "metadata": {
    "collapsed": false
   }
  },
  {
   "cell_type": "code",
   "execution_count": null,
   "outputs": [],
   "source": [],
   "metadata": {
    "collapsed": false
   }
  }
 ],
 "metadata": {
  "kernelspec": {
   "display_name": "Python 3",
   "language": "python",
   "name": "python3"
  },
  "language_info": {
   "codemirror_mode": {
    "name": "ipython",
    "version": 2
   },
   "file_extension": ".py",
   "mimetype": "text/x-python",
   "name": "python",
   "nbconvert_exporter": "python",
   "pygments_lexer": "ipython2",
   "version": "2.7.6"
  }
 },
 "nbformat": 4,
 "nbformat_minor": 0
}
